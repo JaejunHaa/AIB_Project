{
  "nbformat": 4,
  "nbformat_minor": 0,
  "metadata": {
    "kernelspec": {
      "display_name": "Python 3",
      "language": "python",
      "name": "python3"
    },
    "language_info": {
      "codemirror_mode": {
        "name": "ipython",
        "version": 3
      },
      "file_extension": ".py",
      "mimetype": "text/x-python",
      "name": "python",
      "nbconvert_exporter": "python",
      "pygments_lexer": "ipython3",
      "version": "3.7.7"
    },
    "colab": {
      "name": "n223a-evaluation-metrics-for-classification.ipynb의 사본",
      "provenance": [],
      "include_colab_link": true
    },
    "widgets": {
      "application/vnd.jupyter.widget-state+json": {
        "acbf498270bc475f98cc5adf7ad86c73": {
          "model_module": "@jupyter-widgets/controls",
          "model_name": "VBoxModel",
          "state": {
            "_view_name": "VBoxView",
            "_dom_classes": [
              "widget-interact"
            ],
            "_model_name": "VBoxModel",
            "_view_module": "@jupyter-widgets/controls",
            "_model_module_version": "1.5.0",
            "_view_count": null,
            "_view_module_version": "1.5.0",
            "box_style": "",
            "layout": "IPY_MODEL_0b1755bd381b4029a19fa0a2451cb64c",
            "_model_module": "@jupyter-widgets/controls",
            "children": [
              "IPY_MODEL_6fe1826a56e643868233156980f68930",
              "IPY_MODEL_c1ad34abe3ff4c77a275c94dd2b37892"
            ]
          }
        },
        "0b1755bd381b4029a19fa0a2451cb64c": {
          "model_module": "@jupyter-widgets/base",
          "model_name": "LayoutModel",
          "state": {
            "_view_name": "LayoutView",
            "grid_template_rows": null,
            "right": null,
            "justify_content": null,
            "_view_module": "@jupyter-widgets/base",
            "overflow": null,
            "_model_module_version": "1.2.0",
            "_view_count": null,
            "flex_flow": null,
            "width": null,
            "min_width": null,
            "border": null,
            "align_items": null,
            "bottom": null,
            "_model_module": "@jupyter-widgets/base",
            "top": null,
            "grid_column": null,
            "overflow_y": null,
            "overflow_x": null,
            "grid_auto_flow": null,
            "grid_area": null,
            "grid_template_columns": null,
            "flex": null,
            "_model_name": "LayoutModel",
            "justify_items": null,
            "grid_row": null,
            "max_height": null,
            "align_content": null,
            "visibility": null,
            "align_self": null,
            "height": null,
            "min_height": null,
            "padding": null,
            "grid_auto_rows": null,
            "grid_gap": null,
            "max_width": null,
            "order": null,
            "_view_module_version": "1.2.0",
            "grid_template_areas": null,
            "object_position": null,
            "object_fit": null,
            "grid_auto_columns": null,
            "margin": null,
            "display": null,
            "left": null
          }
        },
        "6fe1826a56e643868233156980f68930": {
          "model_module": "@jupyter-widgets/controls",
          "model_name": "FloatSliderModel",
          "state": {
            "_view_name": "FloatSliderView",
            "style": "IPY_MODEL_b998d96325434dc6b1f659c1d7c82da1",
            "_dom_classes": [],
            "description": "threshold",
            "step": 0.01,
            "_model_name": "FloatSliderModel",
            "orientation": "horizontal",
            "max": 1,
            "_view_module": "@jupyter-widgets/controls",
            "_model_module_version": "1.5.0",
            "value": 0.5,
            "_view_count": null,
            "disabled": false,
            "_view_module_version": "1.5.0",
            "min": 0,
            "continuous_update": true,
            "readout_format": ".2f",
            "description_tooltip": null,
            "readout": true,
            "_model_module": "@jupyter-widgets/controls",
            "layout": "IPY_MODEL_5fb68875dc2c4d79882673e23f4e622f"
          }
        },
        "c1ad34abe3ff4c77a275c94dd2b37892": {
          "model_module": "@jupyter-widgets/output",
          "model_name": "OutputModel",
          "state": {
            "_view_name": "OutputView",
            "msg_id": "",
            "_dom_classes": [],
            "_model_name": "OutputModel",
            "outputs": [
              {
                "output_type": "display_data",
                "metadata": {
                  "tags": [],
                  "needs_background": "light"
                },
                "image/png": "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\n",
                "text/plain": "<Figure size 432x288 with 1 Axes>"
              },
              {
                "output_type": "stream",
                "metadata": {
                  "tags": []
                },
                "text": "              precision    recall  f1-score   support\n\n           0       0.90      0.82      0.86      6416\n           1       0.56      0.71      0.63      2015\n\n    accuracy                           0.80      8431\n   macro avg       0.73      0.77      0.74      8431\nweighted avg       0.82      0.80      0.80      8431\n\n",
                "stream": "stdout"
              }
            ],
            "_view_module": "@jupyter-widgets/output",
            "_model_module_version": "1.0.0",
            "_view_count": null,
            "_view_module_version": "1.0.0",
            "layout": "IPY_MODEL_c2563e486d6344be977f09d92c0b20e9",
            "_model_module": "@jupyter-widgets/output"
          }
        },
        "b998d96325434dc6b1f659c1d7c82da1": {
          "model_module": "@jupyter-widgets/controls",
          "model_name": "SliderStyleModel",
          "state": {
            "_view_name": "StyleView",
            "handle_color": null,
            "_model_name": "SliderStyleModel",
            "description_width": "",
            "_view_module": "@jupyter-widgets/base",
            "_model_module_version": "1.5.0",
            "_view_count": null,
            "_view_module_version": "1.2.0",
            "_model_module": "@jupyter-widgets/controls"
          }
        },
        "5fb68875dc2c4d79882673e23f4e622f": {
          "model_module": "@jupyter-widgets/base",
          "model_name": "LayoutModel",
          "state": {
            "_view_name": "LayoutView",
            "grid_template_rows": null,
            "right": null,
            "justify_content": null,
            "_view_module": "@jupyter-widgets/base",
            "overflow": null,
            "_model_module_version": "1.2.0",
            "_view_count": null,
            "flex_flow": null,
            "width": null,
            "min_width": null,
            "border": null,
            "align_items": null,
            "bottom": null,
            "_model_module": "@jupyter-widgets/base",
            "top": null,
            "grid_column": null,
            "overflow_y": null,
            "overflow_x": null,
            "grid_auto_flow": null,
            "grid_area": null,
            "grid_template_columns": null,
            "flex": null,
            "_model_name": "LayoutModel",
            "justify_items": null,
            "grid_row": null,
            "max_height": null,
            "align_content": null,
            "visibility": null,
            "align_self": null,
            "height": null,
            "min_height": null,
            "padding": null,
            "grid_auto_rows": null,
            "grid_gap": null,
            "max_width": null,
            "order": null,
            "_view_module_version": "1.2.0",
            "grid_template_areas": null,
            "object_position": null,
            "object_fit": null,
            "grid_auto_columns": null,
            "margin": null,
            "display": null,
            "left": null
          }
        },
        "c2563e486d6344be977f09d92c0b20e9": {
          "model_module": "@jupyter-widgets/base",
          "model_name": "LayoutModel",
          "state": {
            "_view_name": "LayoutView",
            "grid_template_rows": null,
            "right": null,
            "justify_content": null,
            "_view_module": "@jupyter-widgets/base",
            "overflow": null,
            "_model_module_version": "1.2.0",
            "_view_count": null,
            "flex_flow": null,
            "width": null,
            "min_width": null,
            "border": null,
            "align_items": null,
            "bottom": null,
            "_model_module": "@jupyter-widgets/base",
            "top": null,
            "grid_column": null,
            "overflow_y": null,
            "overflow_x": null,
            "grid_auto_flow": null,
            "grid_area": null,
            "grid_template_columns": null,
            "flex": null,
            "_model_name": "LayoutModel",
            "justify_items": null,
            "grid_row": null,
            "max_height": null,
            "align_content": null,
            "visibility": null,
            "align_self": null,
            "height": null,
            "min_height": null,
            "padding": null,
            "grid_auto_rows": null,
            "grid_gap": null,
            "max_width": null,
            "order": null,
            "_view_module_version": "1.2.0",
            "grid_template_areas": null,
            "object_position": null,
            "object_fit": null,
            "grid_auto_columns": null,
            "margin": null,
            "display": null,
            "left": null
          }
        }
      }
    }
  },
  "cells": [
    {
      "cell_type": "markdown",
      "metadata": {
        "id": "view-in-github",
        "colab_type": "text"
      },
      "source": [
        "<a href=\"https://colab.research.google.com/github/JaejunHaa/AIB_Project/blob/main/n223a_evaluation_metrics_for_classification_ipynb%EC%9D%98_%EC%82%AC%EB%B3%B8.ipynb\" target=\"_parent\"><img src=\"https://colab.research.google.com/assets/colab-badge.svg\" alt=\"Open In Colab\"/></a>"
      ]
    },
    {
      "cell_type": "markdown",
      "metadata": {
        "id": "nghhwcmUgHn4"
      },
      "source": [
        "<img align=\"right\" src=\"https://ds-cs-images.s3.ap-northeast-2.amazonaws.com/Codestates_Fulllogo_Color.png\" width=100>\n",
        "\n",
        "## *DATA SCIENCE / SECTION 2 / SPRINT 2 / NOTE 3*\n",
        "\n",
        "# 📝 Assignment\n",
        "---"
      ]
    },
    {
      "cell_type": "code",
      "metadata": {
        "id": "9gffCV9srHrj"
      },
      "source": [
        "# !pip install --upgrade scikit-learn\n",
        "# ! pip install -U pandas-profiling\n",
        "# ! pip install --upgrade category_encoders"
      ],
      "execution_count": 1,
      "outputs": []
    },
    {
      "cell_type": "markdown",
      "metadata": {
        "id": "nCc3XZEyG3XV"
      },
      "source": [
        "# Evaluation Metrics for Classification\n",
        "\n",
        "### 1) Kaggle 챌린지를 이어서 진행합니다.\n",
        "- **다음 조건에서 F beta score를 구하고 과제 제출폼에 제출하세요.**\n",
        "    - TP = 4442, TN = 6165, FP = 1515, FN = 1930, 재현율에 정밀도의 2배 가중치를 부여합니다."
      ]
    },
    {
      "cell_type": "code",
      "metadata": {
        "id": "xzI0Bs4cgHn6",
        "colab": {
          "base_uri": "https://localhost:8080/"
        },
        "outputId": "9cd9e57f-3ac2-41b3-ccdb-6327d2694fbe"
      },
      "source": [
        "# F beta score 구하기\n",
        "TP = 4442\n",
        "TN = 6165\n",
        "FP = 1515\n",
        "FN = 1930\n",
        "beta = 2\n",
        "\n",
        "precision = TP/(TP+FP)\n",
        "recall = TP/(TP+FN)\n",
        "f_score = (1+beta**2)*(precision*recall)/((beta**2)*precision+recall)\n",
        "\n",
        "print(f'F beta score = {f_score}')"
      ],
      "execution_count": 2,
      "outputs": [
        {
          "output_type": "stream",
          "text": [
            "F beta score = 0.7063126093178566\n"
          ],
          "name": "stdout"
        }
      ]
    },
    {
      "cell_type": "markdown",
      "metadata": {
        "id": "Zits6m2VgHn6"
      },
      "source": [
        "### 2) 모델을 학습한 후 Confusion matrix를 그리고 해석하세요\n",
        "- 임계값을 조정한 후 confusion matrix를 그려보세요\n",
        "- **(객관식) 임계값을 증가시킬때 positive 범주에 대한 재현율의 변화 양상을 과제 제출폼에 제출하세요.**\n",
        "    1. 증가\n",
        "    2. 감소\n",
        "    3. 변화가 없다\n"
      ]
    },
    {
      "cell_type": "code",
      "metadata": {
        "id": "vIvykRAkgHn6"
      },
      "source": [
        "# 데이터 불러오기\n",
        "import pandas as pd\n",
        "target = 'vacc_h1n1_f'\n",
        "train = pd.merge(pd.read_csv('https://ds-lecture-data.s3.ap-northeast-2.amazonaws.com/vacc_flu/train.csv'), \n",
        "                 pd.read_csv('https://ds-lecture-data.s3.ap-northeast-2.amazonaws.com/vacc_flu/train_labels.csv')[target], left_index=True, right_index=True)\n",
        "test = pd.read_csv('https://ds-lecture-data.s3.ap-northeast-2.amazonaws.com/vacc_flu/test.csv')\n",
        "sample_submission = pd.read_csv('https://ds-lecture-data.s3.ap-northeast-2.amazonaws.com/vacc_flu/submission.csv')"
      ],
      "execution_count": 3,
      "outputs": []
    },
    {
      "cell_type": "code",
      "metadata": {
        "colab": {
          "base_uri": "https://localhost:8080/"
        },
        "id": "iNtf4BPdrtQh",
        "outputId": "4f1b390e-ebed-487d-c2e9-17971a7b6f9c"
      },
      "source": [
        "# 데이터 나누기\n",
        "from sklearn.model_selection import train_test_split\n",
        "train, val = train_test_split(train, train_size=0.80, test_size=0.20, \n",
        "                              stratify=train[target], random_state=2)\n",
        "\n",
        "train.shape, val.shape, test.shape"
      ],
      "execution_count": 4,
      "outputs": [
        {
          "output_type": "execute_result",
          "data": {
            "text/plain": [
              "((33723, 39), (8431, 39), (28104, 38))"
            ]
          },
          "metadata": {
            "tags": []
          },
          "execution_count": 4
        }
      ]
    },
    {
      "cell_type": "code",
      "metadata": {
        "colab": {
          "base_uri": "https://localhost:8080/"
        },
        "id": "L9D9HqYLrvOJ",
        "outputId": "b98ac15c-2ed7-4b77-f99c-3d7a58b11174"
      },
      "source": [
        "# 중복된 샘플을 제거\n",
        "train.drop_duplicates(inplace = True)\n",
        "\n",
        "# 중복 샘플 제거 후 샘플 확인\n",
        "train.duplicated().sum()"
      ],
      "execution_count": 5,
      "outputs": [
        {
          "output_type": "execute_result",
          "data": {
            "text/plain": [
              "0"
            ]
          },
          "metadata": {
            "tags": []
          },
          "execution_count": 5
        }
      ]
    },
    {
      "cell_type": "code",
      "metadata": {
        "id": "yKNCK-aLrw7X"
      },
      "source": [
        "# 특성 엔지니어링\n",
        "import numpy as np\n",
        "import warnings\n",
        "warnings.filterwarnings('ignore')\n",
        "\n",
        "def engineer(df):\n",
        "    \n",
        "    # behaviorals 관련 새로운 특성 생성\n",
        "    behaviorals = [col for col in df.columns if 'behavioral' in col] \n",
        "    df['behaviorals'] = df[behaviorals].sum(axis=1)\n",
        "    \n",
        "    # 타겟 변수와 관계 없는 seasonal flu관련 특성 제거\n",
        "    dels = [col for col in df.columns if 'seas' in col]\n",
        "    df.drop(columns=dels, inplace=True)\n",
        "        \n",
        "    return df\n",
        "\n",
        "train = engineer(train)\n",
        "val = engineer(val)\n",
        "test = engineer(test)"
      ],
      "execution_count": 6,
      "outputs": []
    },
    {
      "cell_type": "code",
      "metadata": {
        "id": "e2QN26_AryOd"
      },
      "source": [
        "# 훈련/검증/테스트 데이터를 특성과 타겟으로 분리\n",
        "features = train.drop(columns=[target]).columns\n",
        "\n",
        "X_train = train[features]\n",
        "y_train = train[target]\n",
        "X_val = val[features]\n",
        "y_val = val[target]\n",
        "X_test = test[features]"
      ],
      "execution_count": 7,
      "outputs": []
    },
    {
      "cell_type": "code",
      "metadata": {
        "colab": {
          "base_uri": "https://localhost:8080/"
        },
        "id": "z2zdXxoBr1aX",
        "outputId": "91db3d0d-12f0-4953-ec3f-19a93577051e"
      },
      "source": [
        "# Target encoding, RamdomForest\n",
        "from sklearn.pipeline import make_pipeline\n",
        "from sklearn.impute import SimpleImputer\n",
        "from sklearn.ensemble import RandomForestClassifier\n",
        "from category_encoders import TargetEncoder\n",
        "from sklearn.metrics import f1_score\n",
        "\n",
        "pipe = make_pipeline(\n",
        "    TargetEncoder(), \n",
        "    SimpleImputer(), \n",
        "    RandomForestClassifier(n_jobs=-1, random_state=2, oob_score=True, \n",
        "                           n_estimators=200, max_depth=11, class_weight='balanced')\n",
        ")\n",
        "\n",
        "pipe.fit(X_train, y_train)\n",
        "print('Training accuracy: ', pipe.score(X_train, y_train))\n",
        "print('Validation accuracy: ', pipe.score(X_val, y_val))\n",
        "\n",
        "# f1-score\n",
        "y_val_pred = pipe.predict(X_val)\n",
        "print('Validation accuracy(f1_score):', f1_score(y_val, y_val_pred))"
      ],
      "execution_count": 8,
      "outputs": [
        {
          "output_type": "stream",
          "text": [
            "Training accuracy:  0.8412215561719006\n",
            "Validation accuracy:  0.795397936187878\n",
            "Validation accuracy(f1_score): 0.6252444058222897\n"
          ],
          "name": "stdout"
        }
      ]
    },
    {
      "cell_type": "code",
      "metadata": {
        "colab": {
          "base_uri": "https://localhost:8080/",
          "height": 475,
          "referenced_widgets": [
            "acbf498270bc475f98cc5adf7ad86c73",
            "0b1755bd381b4029a19fa0a2451cb64c",
            "6fe1826a56e643868233156980f68930",
            "c1ad34abe3ff4c77a275c94dd2b37892",
            "b998d96325434dc6b1f659c1d7c82da1",
            "5fb68875dc2c4d79882673e23f4e622f",
            "c2563e486d6344be977f09d92c0b20e9"
          ]
        },
        "id": "xOi2OOL8zxZB",
        "outputId": "eac8e86b-9277-4e1c-a39b-9294d0949589"
      },
      "source": [
        "# 임계값 변화에 따른 지표 변화 시각화\n",
        "import seaborn as sns\n",
        "import matplotlib.pyplot as plt\n",
        "from ipywidgets import interact, fixed\n",
        "from sklearn.metrics import classification_report\n",
        "\n",
        "y_pred_proba = pipe.predict_proba(X_val)[:, 1]\n",
        "\n",
        "def explore_threshold(y_true, y_pred_proba, threshold=0.5):\n",
        "    y_pred = y_pred_proba >= threshold\n",
        "    vc = pd.Series(y_pred).value_counts()\n",
        "    ax = sns.histplot(y_pred_proba, kde=True)\n",
        "    ax.axvline(threshold, color='red')\n",
        "    ax.set_title(f'# of target, 1={vc[1]}, 0={vc[0]}')\n",
        "    plt.show()\n",
        "    print(classification_report(y_true, y_pred))\n",
        "\n",
        "    \n",
        "interact(explore_threshold, \n",
        "    y_true=fixed(y_val), \n",
        "    y_pred_proba=fixed(y_pred_proba), \n",
        "    threshold=(0, 1, 0.01));"
      ],
      "execution_count": 9,
      "outputs": [
        {
          "output_type": "display_data",
          "data": {
            "application/vnd.jupyter.widget-view+json": {
              "model_id": "acbf498270bc475f98cc5adf7ad86c73",
              "version_minor": 0,
              "version_major": 2
            },
            "text/plain": [
              "interactive(children=(FloatSlider(value=0.5, description='threshold', max=1.0, step=0.01), Output()), _dom_cla…"
            ]
          },
          "metadata": {
            "tags": []
          }
        }
      ]
    },
    {
      "cell_type": "code",
      "metadata": {
        "colab": {
          "base_uri": "https://localhost:8080/",
          "height": 297
        },
        "id": "hUHADm8jsgDA",
        "outputId": "a5cd7a22-a1dc-4e1c-86e0-8bc211c182dc"
      },
      "source": [
        "# Confusion matrix 시각화\n",
        "from sklearn.metrics import plot_confusion_matrix\n",
        "\n",
        "fig, ax = plt.subplots()\n",
        "pcm = plot_confusion_matrix(pipe, X_val, y_val,\n",
        "                            cmap=plt.cm.Blues,\n",
        "                            ax=ax);\n",
        "plt.title(f'Confusion matrix, n = {len(y_val)}', fontsize=15)\n",
        "plt.show()"
      ],
      "execution_count": 10,
      "outputs": [
        {
          "output_type": "display_data",
          "data": {
            "image/png": "[encoded data removed]",
            "text/plain": [
              "<Figure size 432x288 with 2 Axes>"
            ]
          },
          "metadata": {
            "tags": [],
            "needs_background": "light"
          }
        }
      ]
    },
    {
      "cell_type": "markdown",
      "metadata": {
        "id": "Mel9QJUJgHn6"
      },
      "source": [
        "### 3) 랜덤포레스트의 n_estimator를 1, 10, 100, 1000으로 바꾸어 가며 positive 범주의 predict_proba를 비교해 보세요\n",
        "- 파라미터는 다음과 같이 설정합니다.\n",
        "    - n_jobs=-1, random_state=10, max_depth=None, n_estimators = n\n",
        "- **(객관식) 확률값들의 분포(종류)의 변화를 과제 제출폼에 제출하세요**\n",
        "    1. 다양해진다\n",
        "    2. 변화가없다\n"
      ]
    },
    {
      "cell_type": "code",
      "metadata": {
        "id": "wwtFUcqegHn7",
        "colab": {
          "base_uri": "https://localhost:8080/",
          "height": 369
        },
        "outputId": "3331dae4-5a07-4e06-d544-ae3c8e6c5ba6"
      },
      "source": [
        "# n_estimator=1\n",
        "pipe1 = make_pipeline(\n",
        "    TargetEncoder(), \n",
        "    SimpleImputer(), \n",
        "    RandomForestClassifier(n_jobs=-1, random_state=10, \n",
        "                           max_depth=None, n_estimators=1)\n",
        ")\n",
        "\n",
        "pipe1.fit(X_train, y_train)\n",
        "y_pred_proba1 = pipe1.predict_proba(X_val)[:, 1]\n",
        "\n",
        "sns.displot(y_pred_proba1);"
      ],
      "execution_count": 11,
      "outputs": [
        {
          "output_type": "display_data",
          "data": {
            "image/png": "[encoded data removed]",
            "text/plain": [
              "<Figure size 360x360 with 1 Axes>"
            ]
          },
          "metadata": {
            "tags": [],
            "needs_background": "light"
          }
        }
      ]
    },
    {
      "cell_type": "code",
      "metadata": {
        "colab": {
          "base_uri": "https://localhost:8080/",
          "height": 369
        },
        "id": "YvI5OX_D5_cv",
        "outputId": "0f8d3cd0-c25c-476a-9952-1c623df906a3"
      },
      "source": [
        "# n_estimator=10\n",
        "pipe10 = make_pipeline(\n",
        "    TargetEncoder(), \n",
        "    SimpleImputer(), \n",
        "    RandomForestClassifier(n_jobs=-1, random_state=10, \n",
        "                           max_depth=None, n_estimators=10)\n",
        ")\n",
        "\n",
        "pipe10.fit(X_train, y_train)\n",
        "y_pred_proba10 = pipe10.predict_proba(X_val)[:, 1]\n",
        "\n",
        "sns.displot(y_pred_proba10);"
      ],
      "execution_count": 12,
      "outputs": [
        {
          "output_type": "display_data",
          "data": {
            "image/png": "[encoded data removed]",
            "text/plain": [
              "<Figure size 360x360 with 1 Axes>"
            ]
          },
          "metadata": {
            "tags": [],
            "needs_background": "light"
          }
        }
      ]
    },
    {
      "cell_type": "code",
      "metadata": {
        "colab": {
          "base_uri": "https://localhost:8080/",
          "height": 369
        },
        "id": "wfuXOK9k5gHS",
        "outputId": "36f2ef5d-2dfc-41e6-8792-103006acf973"
      },
      "source": [
        "# n_estimator=100\n",
        "pipe100 = make_pipeline(\n",
        "    TargetEncoder(), \n",
        "    SimpleImputer(), \n",
        "    RandomForestClassifier(n_jobs=-1, random_state=10, \n",
        "                           max_depth=None, n_estimators=100)\n",
        ")\n",
        "\n",
        "pipe100.fit(X_train, y_train)\n",
        "y_pred_proba100 = pipe100.predict_proba(X_val)[:, 1]\n",
        "\n",
        "sns.displot(y_pred_proba100);"
      ],
      "execution_count": 13,
      "outputs": [
        {
          "output_type": "display_data",
          "data": {
            "image/png": "[encoded data removed]",
            "text/plain": [
              "<Figure size 360x360 with 1 Axes>"
            ]
          },
          "metadata": {
            "tags": [],
            "needs_background": "light"
          }
        }
      ]
    },
    {
      "cell_type": "code",
      "metadata": {
        "colab": {
          "base_uri": "https://localhost:8080/",
          "height": 369
        },
        "id": "QYZ_EEfO6W1Y",
        "outputId": "76783a13-ba71-4eb7-d8a9-d2ee92593b98"
      },
      "source": [
        "# n_estimator=1000\n",
        "pipe1000 = make_pipeline(\n",
        "    TargetEncoder(), \n",
        "    SimpleImputer(), \n",
        "    RandomForestClassifier(n_jobs=-1, random_state=10, \n",
        "                           max_depth=None, n_estimators=1000)\n",
        ")\n",
        "\n",
        "pipe1000.fit(X_train, y_train)\n",
        "y_pred_proba1000 = pipe1000.predict_proba(X_val)[:, 1]\n",
        "\n",
        "sns.displot(y_pred_proba1000);"
      ],
      "execution_count": 14,
      "outputs": [
        {
          "output_type": "display_data",
          "data": {
            "image/png": "[encoded data removed]",
            "text/plain": [
              "<Figure size 360x360 with 1 Axes>"
            ]
          },
          "metadata": {
            "tags": [],
            "needs_background": "light"
          }
        }
      ]
    },
    {
      "cell_type": "markdown",
      "metadata": {
        "id": "gAK3JN3ngHn7"
      },
      "source": [
        "### 4) 두개 이상의 다른 분류 모델을 학습시켜 ROC curve, AUC 점수를 비교하고 설명합니다.\n",
        "- 더 좋은 결과가 나오는 모델을 사용해서 캐글에 제출하세요\n",
        "- **캐글 Leaderboard의 본인 Score를 과제 제출폼에 제출하세요.**"
      ]
    },
    {
      "cell_type": "code",
      "metadata": {
        "id": "HnNkFayMgHn7",
        "colab": {
          "base_uri": "https://localhost:8080/",
          "height": 295
        },
        "outputId": "4630e7ee-db1d-41b0-c602-2b38ec9b8fae"
      },
      "source": [
        "# 기존 모델(TargetEncoder, max_depth=11, n_estimators=200) ROC curve 확인\n",
        "from sklearn.metrics import roc_curve\n",
        "\n",
        "fpr, tpr, thresholds = roc_curve(y_val, y_pred_proba)\n",
        "\n",
        "plt.scatter(fpr, tpr)\n",
        "plt.title('ROC curve')\n",
        "plt.xlabel('FPR(Fall-out)')\n",
        "plt.ylabel('TPR(Recall)');"
      ],
      "execution_count": 15,
      "outputs": [
        {
          "output_type": "display_data",
          "data": {
            "image/png": "[encoded data removed]",
            "text/plain": [
              "<Figure size 432x288 with 1 Axes>"
            ]
          },
          "metadata": {
            "tags": [],
            "needs_background": "light"
          }
        }
      ]
    },
    {
      "cell_type": "code",
      "metadata": {
        "colab": {
          "base_uri": "https://localhost:8080/"
        },
        "id": "hbanPqnC894E",
        "outputId": "7d193983-98da-4c6d-d6b6-2964ad141763"
      },
      "source": [
        "# AUC점수 계산\n",
        "from sklearn.metrics import roc_auc_score\n",
        "auc_score = roc_auc_score(y_val, y_pred_proba)\n",
        "print(f'AUC score: {auc_score}')"
      ],
      "execution_count": 16,
      "outputs": [
        {
          "output_type": "stream",
          "text": [
            "AUC score: 0.8492214717548561\n"
          ],
          "name": "stdout"
        }
      ]
    },
    {
      "cell_type": "code",
      "metadata": {
        "colab": {
          "base_uri": "https://localhost:8080/"
        },
        "id": "gAS9u8YYakxJ",
        "outputId": "0b90d82b-8a22-4c2b-9450-d7c8e84acb1e"
      },
      "source": [
        "# 새로운 모델\n",
        "from category_encoders import OrdinalEncoder\n",
        "pipe2 = make_pipeline(\n",
        "    OrdinalEncoder(), \n",
        "    SimpleImputer(),\n",
        "    RandomForestClassifier(n_jobs=-1, random_state=2, oob_score=True, \n",
        "                           max_depth=11, n_estimators=200, min_samples_leaf=3, max_features=0.5, \n",
        "                           class_weight='balanced')\n",
        ")\n",
        "\n",
        "pipe2.fit(X_train, y_train)\n",
        "print('Training accuracy: ', pipe2.score(X_train, y_train))\n",
        "print('Validation accuracy: ', pipe2.score(X_val, y_val))\n",
        "\n",
        "# f1-score\n",
        "y_val_pred = pipe2.predict(X_val)\n",
        "print('Validation accuracy(f1_score):', f1_score(y_val, y_val_pred))"
      ],
      "execution_count": 17,
      "outputs": [
        {
          "output_type": "stream",
          "text": [
            "Training accuracy:  0.840744385792252\n",
            "Validation accuracy:  0.795397936187878\n",
            "Validation accuracy(f1_score): 0.6252444058222897\n"
          ],
          "name": "stdout"
        }
      ]
    },
    {
      "cell_type": "code",
      "metadata": {
        "colab": {
          "base_uri": "https://localhost:8080/",
          "height": 313
        },
        "id": "sa8F22-mclTN",
        "outputId": "24b43260-16f3-42d2-c1c5-db7030c22075"
      },
      "source": [
        "y_pred_proba2 = pipe2.predict_proba(X_val)[:, 1]\n",
        "fpr2, tpr2, thresholds2 = roc_curve(y_val, y_pred_proba2)\n",
        "\n",
        "plt.scatter(fpr2, tpr2)\n",
        "plt.title('ROC curve - model1')\n",
        "plt.xlabel('FPR(Fall-out)')\n",
        "plt.ylabel('TPR(Recall)')\n",
        "\n",
        "auc_score2 = roc_auc_score(y_val, y_pred_proba2)\n",
        "print(f'AUC score_2: {auc_score2}')"
      ],
      "execution_count": 18,
      "outputs": [
        {
          "output_type": "stream",
          "text": [
            "AUC score_2: 0.846986751483574\n"
          ],
          "name": "stdout"
        },
        {
          "output_type": "display_data",
          "data": {
            "image/png": "[encoded data removed]",
            "text/plain": [
              "<Figure size 432x288 with 1 Axes>"
            ]
          },
          "metadata": {
            "tags": [],
            "needs_background": "light"
          }
        }
      ]
    },
    {
      "cell_type": "markdown",
      "metadata": {
        "id": "LCuFQsnlgHn7"
      },
      "source": [
        "## 🔥 도전과제"
      ]
    },
    {
      "cell_type": "markdown",
      "metadata": {
        "id": "vyVBmFisgHn8"
      },
      "source": [
        "### 5) 각 평가지표에 대해 결과를 최대한 분석하고 무엇이 부족한지, 어떤 방향으로 성능을 높여야 하는지 논하세요."
      ]
    },
    {
      "cell_type": "code",
      "metadata": {
        "id": "fVum0gBqgHn8"
      },
      "source": [
        "### 이곳에서 과제를 진행해 주세요 ### "
      ],
      "execution_count": 19,
      "outputs": []
    }
  ]
}